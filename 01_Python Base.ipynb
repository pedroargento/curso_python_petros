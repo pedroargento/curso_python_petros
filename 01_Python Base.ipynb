{
 "cells": [
  {
   "cell_type": "markdown",
   "metadata": {},
   "source": [
    "# Python Base"
   ]
  },
  {
   "cell_type": "markdown",
   "metadata": {},
   "source": [
    "## Sobre Python\n",
    "1. Linguagem interpretada\n",
    "2. Linguagem de propósito geral\n",
    "3. Linguagem de alto nível\n",
    "\n",
    "### Filosofia da linguagem\n",
    "* Bonito é melhor do que feio.\n",
    "* Explícito é melhor que implícito.\n",
    "* Simples é melhor que complexo.\n",
    "* Complexo é melhor do que complicado.\n",
    "* Facilidade de leitura é importante.\n",
    "\n",
    "[Documentação](https://docs.python.org/3/)"
   ]
  },
  {
   "cell_type": "markdown",
   "metadata": {},
   "source": [
    "## Sintaxe e Variáveis"
   ]
  },
  {
   "cell_type": "markdown",
   "metadata": {},
   "source": [
    "### Strings\n",
    "Sequência de caracteres que podem incluir letras, números ou símbolos."
   ]
  },
  {
   "cell_type": "code",
   "execution_count": null,
   "metadata": {},
   "outputs": [],
   "source": [
    "print(\"Olá mundo\")\n",
    "print('IAG PUC-RIO')"
   ]
  },
  {
   "cell_type": "code",
   "execution_count": null,
   "metadata": {},
   "outputs": [],
   "source": []
  },
  {
   "cell_type": "code",
   "execution_count": null,
   "metadata": {},
   "outputs": [],
   "source": [
    "print(\"Bem vindo ao curso, \" + \"alunos\")"
   ]
  },
  {
   "cell_type": "code",
   "execution_count": null,
   "metadata": {},
   "outputs": [],
   "source": [
    "#Modifique o código para que o programa imprima \"Bem vindo ao curso, (SEU NOME)\" utilizando duas strings.\n",
    "string_1 = \"Bem vindo ao curso, \"\n",
    "string_2 = \"Pedro\"\n",
    "print(string_1 + string_2)"
   ]
  },
  {
   "cell_type": "code",
   "execution_count": null,
   "metadata": {},
   "outputs": [],
   "source": [
    "print('Erros de sintaxe')\n",
    "print(\"Erros de sintaxe\")\n",
    "print(\"Erros de sintaxe\")"
   ]
  },
  {
   "cell_type": "markdown",
   "metadata": {},
   "source": [
    "#### Tamanho de uma string"
   ]
  },
  {
   "cell_type": "code",
   "execution_count": null,
   "metadata": {},
   "outputs": [],
   "source": [
    "print(len(\"Tamanho da string\"))\n",
    "print(len(\"Pedro\"))\n",
    "print(len(\"PUC-RIO\"))"
   ]
  },
  {
   "cell_type": "code",
   "execution_count": null,
   "metadata": {},
   "outputs": [],
   "source": [
    "len(\"Tamanho da string\")"
   ]
  },
  {
   "cell_type": "markdown",
   "metadata": {},
   "source": [
    "#### Índice de strings"
   ]
  },
  {
   "cell_type": "code",
   "execution_count": null,
   "metadata": {},
   "outputs": [],
   "source": [
    "string = \"PYTHON\"\n",
    "print(string[3])\n",
    "print(string[4])\n",
    "print(string[0])"
   ]
  },
  {
   "cell_type": "code",
   "execution_count": null,
   "metadata": {},
   "outputs": [],
   "source": [
    "string = 'Python3'\n",
    "#Utilizando o índice, imprima a primeira letra da string PYTHON:\n",
    "print(string[0])\n",
    "\n",
    "#Utilizando o índice, imprima a ultima letra da string PYTHON:\n",
    "print(string[-1])\n",
    "print(string[5])\n",
    "print(string[len(string)-1])\n",
    "print(len(string)-1)"
   ]
  },
  {
   "cell_type": "code",
   "execution_count": null,
   "metadata": {},
   "outputs": [],
   "source": [
    "string[:4]"
   ]
  },
  {
   "cell_type": "code",
   "execution_count": null,
   "metadata": {},
   "outputs": [],
   "source": [
    "print(string[1:]) "
   ]
  },
  {
   "cell_type": "code",
   "execution_count": null,
   "metadata": {},
   "outputs": [],
   "source": [
    "string1 = \"Bruno\"\n",
    "print(string1[len(string1)-1])\n"
   ]
  },
  {
   "cell_type": "code",
   "execution_count": null,
   "metadata": {},
   "outputs": [],
   "source": [
    "print(string[1:4])"
   ]
  },
  {
   "cell_type": "markdown",
   "metadata": {},
   "source": [
    "#### Upper e Lower"
   ]
  },
  {
   "cell_type": "code",
   "execution_count": null,
   "metadata": {},
   "outputs": [],
   "source": [
    "string = \"IAG - PUC-Rio\"\n",
    "print(string.lower())\n",
    "print(string.upper())"
   ]
  },
  {
   "cell_type": "markdown",
   "metadata": {},
   "source": [
    "### Aritimética"
   ]
  },
  {
   "cell_type": "code",
   "execution_count": null,
   "metadata": {},
   "outputs": [],
   "source": [
    "num1 = 60\n",
    "num2 = 35\n",
    "\n",
    "soma = num1 + num2\n",
    "subt = num1 - num2\n",
    "mult = num1*num2\n",
    "div = num1/num2\n",
    "modulo = num1%num2\n",
    "\n",
    "print(soma)\n",
    "print(subt)\n",
    "print(mult)\n",
    "print(\"{:12.8f}\".format(div))\n",
    "print(modulo)\n",
    "print(num1**num2)"
   ]
  },
  {
   "cell_type": "code",
   "execution_count": null,
   "metadata": {},
   "outputs": [],
   "source": [
    "num1 = 10\n",
    "num2 = 15\n",
    "\n",
    "num1 = num1 + 20\n",
    "#30\n",
    "num2 = num2 - 30\n",
    "print(num1, num2)\n",
    "\n",
    "num1 += 20\n",
    "#50\n",
    "num2 -= 10\n",
    "print(num1, num2)\n",
    "\n",
    "num1 *= 20\n",
    "num2 /= 10\n",
    "print(num1, num2)"
   ]
  },
  {
   "cell_type": "code",
   "execution_count": null,
   "metadata": {},
   "outputs": [],
   "source": [
    "#Comentários\n",
    "\n",
    "#Variável que guarda o número de alunos na turma\n",
    "alunos = 24\n",
    "#Variável que guarda o endereço do curso\n",
    "end = \"zoom\"\n",
    "#Variável que guarda o andar do curso\n",
    "andar = 3"
   ]
  },
  {
   "cell_type": "markdown",
   "metadata": {},
   "source": [
    "### Inteiros e Float\n",
    "Números interos e decimais."
   ]
  },
  {
   "cell_type": "code",
   "execution_count": null,
   "metadata": {},
   "outputs": [],
   "source": [
    "itens = 24\n",
    "preco = 12.5\n",
    "total = itens*preco\n",
    "print(type(itens))\n",
    "print(type(preco))\n",
    "print(type(total))"
   ]
  },
  {
   "cell_type": "code",
   "execution_count": null,
   "metadata": {},
   "outputs": [],
   "source": [
    "print(7/3)\n",
    "print(7//3)"
   ]
  },
  {
   "cell_type": "code",
   "execution_count": null,
   "metadata": {},
   "outputs": [],
   "source": [
    "#Modifique o código para que imprima na tela quantas fatias de pizza cada aluno comerá. \n",
    "#Imprima também o número de fatias completas.\n",
    "\n",
    "alunos = 20\n",
    "fatias_por_pizza = 8\n",
    "pizzas = 5\n",
    "\n",
    "fatias = fatias_por_pizza*pizzas/alunos\n",
    "fatiasCompletas = fatias_por_pizza*pizzas//alunos\n",
    "\n",
    "\n",
    "print(\"Fatias:\" + str(fatias))\n",
    "print(\"Fatias completas:\" + str(fatiasCompletas))"
   ]
  },
  {
   "cell_type": "code",
   "execution_count": null,
   "metadata": {},
   "outputs": [],
   "source": [
    "str(10)"
   ]
  },
  {
   "cell_type": "markdown",
   "metadata": {},
   "source": [
    "### Booleanas\n",
    "Variáveis que podem assumir dois valores: Verdadeiro (equivalente ao inteiro 1) e Falso (Equivalente ao inteiro 0)"
   ]
  },
  {
   "cell_type": "code",
   "execution_count": null,
   "metadata": {},
   "outputs": [],
   "source": [
    "a = True\n",
    "b = False"
   ]
  },
  {
   "cell_type": "code",
   "execution_count": null,
   "metadata": {},
   "outputs": [],
   "source": [
    "print(a*10)\n",
    "print(b*99999999)"
   ]
  },
  {
   "cell_type": "markdown",
   "metadata": {},
   "source": [
    "### DateTime\n",
    "Biblioteca que permite lidar com tempos e datas"
   ]
  },
  {
   "cell_type": "code",
   "execution_count": null,
   "metadata": {},
   "outputs": [],
   "source": [
    "#Importar a biblioteca\n",
    "from datetime import datetime"
   ]
  },
  {
   "cell_type": "code",
   "execution_count": null,
   "metadata": {},
   "outputs": [],
   "source": [
    "agora = datetime.now()\n",
    "print(agora)\n",
    "print(type(agora))"
   ]
  },
  {
   "cell_type": "code",
   "execution_count": null,
   "metadata": {},
   "outputs": [],
   "source": [
    "dia = agora.day\n",
    "print(dia)\n",
    "\n",
    "mes = agora.month\n",
    "print(mes)\n",
    "\n",
    "ano = agora.year\n",
    "print(ano)"
   ]
  },
  {
   "cell_type": "code",
   "execution_count": null,
   "metadata": {},
   "outputs": [],
   "source": [
    "#Imprima na tela separadamente a hora, o minuto e o segundo atuais\n",
    "print(agora.hour)\n",
    "print(agora.minute)\n",
    "print(datetime.now().second)"
   ]
  },
  {
   "cell_type": "markdown",
   "metadata": {},
   "source": [
    "### Listas\n",
    "Listas são variáveis que guardam uma coleção de outros objetos (strings, números, etc). Em Python, uma lista é representada por colchetes."
   ]
  },
  {
   "cell_type": "code",
   "execution_count": null,
   "metadata": {},
   "outputs": [],
   "source": [
    "numeros = [10,12,33,44,50,623]\n",
    "lista_vazia = []\n",
    "animais = ['vaca', 'cavalo', 'cachorro']"
   ]
  },
  {
   "cell_type": "code",
   "execution_count": null,
   "metadata": {},
   "outputs": [],
   "source": [
    "numeros[0] + numeros[4]"
   ]
  },
  {
   "cell_type": "code",
   "execution_count": null,
   "metadata": {},
   "outputs": [],
   "source": [
    "#Alterar o conteúdo da lista baseado no índice\n",
    "animais[2] = 'gato'\n",
    "print(animais)"
   ]
  },
  {
   "cell_type": "code",
   "execution_count": null,
   "metadata": {},
   "outputs": [],
   "source": [
    "#Sublistas\n",
    "sublista = numeros[1:3]\n",
    "sublista2 = numeros[3:]\n",
    "print(sublista)\n",
    "print(sublista2)\n",
    "print(sublista[0])\n",
    "sublista[0] = 10\n",
    "print(sublista)"
   ]
  },
  {
   "cell_type": "code",
   "execution_count": null,
   "metadata": {},
   "outputs": [],
   "source": [
    "#adicionar elemento no fim da lista\n",
    "#lista_vazia.append(5)\n",
    "#print(lista_vazia)\n",
    "#lista_vazia.append(\"crocodilo\")\n",
    "#print(lista_vazia)\n",
    "\n",
    "#adicionar elemento no meio da lista\n",
    "animais.insert(1,\"boi\")\n",
    "print(animais)"
   ]
  },
  {
   "cell_type": "code",
   "execution_count": null,
   "metadata": {},
   "outputs": [],
   "source": [
    "animais.remove('vaca')"
   ]
  },
  {
   "cell_type": "code",
   "execution_count": null,
   "metadata": {},
   "outputs": [],
   "source": [
    "animais.pop(0)"
   ]
  },
  {
   "cell_type": "code",
   "execution_count": null,
   "metadata": {},
   "outputs": [],
   "source": [
    "#Obter o índice de um ítem:\n",
    "print(animais.index(\"cavalo\"))"
   ]
  },
  {
   "cell_type": "code",
   "execution_count": null,
   "metadata": {},
   "outputs": [],
   "source": [
    "print(animais)"
   ]
  },
  {
   "cell_type": "code",
   "execution_count": null,
   "metadata": {},
   "outputs": [],
   "source": [
    "#Ordernar listas\n",
    "lista = [10,30,1,-10,40,1,100,1000, 0]\n",
    "lista.sort()\n",
    "print(lista)"
   ]
  },
  {
   "cell_type": "markdown",
   "metadata": {},
   "source": [
    "#### Loop FOR\n",
    "Itera através dos elementos de uma lista (ou string)"
   ]
  },
  {
   "cell_type": "code",
   "execution_count": null,
   "metadata": {},
   "outputs": [],
   "source": [
    "print(animais[0])\n",
    "print(animais[1])"
   ]
  },
  {
   "cell_type": "code",
   "execution_count": null,
   "metadata": {},
   "outputs": [],
   "source": [
    "list(range(3))"
   ]
  },
  {
   "cell_type": "code",
   "execution_count": null,
   "metadata": {},
   "outputs": [],
   "source": [
    "for i in range(2,10,2):\n",
    "    print(i)"
   ]
  },
  {
   "cell_type": "code",
   "execution_count": null,
   "metadata": {},
   "outputs": [],
   "source": [
    "lista = [10,20,102,4,5]\n",
    "for elemento in lista[:2]:\n",
    "    print('banana')\n",
    "    \n",
    "print(elemento)"
   ]
  },
  {
   "cell_type": "markdown",
   "metadata": {},
   "source": [
    "#### Filtro e reduce"
   ]
  },
  {
   "cell_type": "code",
   "execution_count": null,
   "metadata": {},
   "outputs": [],
   "source": [
    "lista = [-2,2,1,0.9,13,1,-4]\n",
    "resultado = [i for i in lista if i>=1]\n",
    "print(lista)\n",
    "print(resultado)"
   ]
  },
  {
   "cell_type": "code",
   "execution_count": null,
   "metadata": {},
   "outputs": [],
   "source": [
    "lista = [40,30,122,30,10,1100]\n",
    "[2*i for i in lista if i<50]"
   ]
  },
  {
   "cell_type": "code",
   "execution_count": null,
   "metadata": {},
   "outputs": [],
   "source": [
    "lista = ['vaca', 'avestruz', 'albatroz', 'cachorro', 'gato', 'anta']\n",
    "#Crie uma lista apenas com animais começando com a letra \"a\"\n",
    "[animal for animal in lista if animal[0] == 'a']"
   ]
  },
  {
   "cell_type": "markdown",
   "metadata": {},
   "source": [
    "### Dicionários\n",
    "São parecidos com listas mas ao invés de um índice numérico seus elementos são indexados por chaves únicas, que podem ser strings ou inteiros. São representados por {}."
   ]
  },
  {
   "cell_type": "code",
   "execution_count": null,
   "metadata": {},
   "outputs": [],
   "source": [
    "d = {'key1' : 1, 'key2' : 2, 'key3' : 3}"
   ]
  },
  {
   "cell_type": "code",
   "execution_count": null,
   "metadata": {},
   "outputs": [],
   "source": [
    "d['key1']"
   ]
  },
  {
   "cell_type": "code",
   "execution_count": null,
   "metadata": {},
   "outputs": [],
   "source": [
    "d['key2'] = 10"
   ]
  },
  {
   "cell_type": "code",
   "execution_count": null,
   "metadata": {},
   "outputs": [],
   "source": [
    "print(d['key2'])\n",
    "d['key1']"
   ]
  },
  {
   "cell_type": "code",
   "execution_count": null,
   "metadata": {},
   "outputs": [],
   "source": [
    "d['novo'] = 100"
   ]
  },
  {
   "cell_type": "code",
   "execution_count": null,
   "metadata": {},
   "outputs": [],
   "source": [
    "d"
   ]
  },
  {
   "cell_type": "code",
   "execution_count": null,
   "metadata": {},
   "outputs": [],
   "source": [
    "d['key4']\n"
   ]
  },
  {
   "cell_type": "code",
   "execution_count": null,
   "metadata": {},
   "outputs": [],
   "source": [
    "#Exemplo:\n",
    "ultimas_transacoes = {'Maria': [100,30,-10], 'Joao': [-10,-10,-10,300], 'Pedro': [10], 'Carla': [-5,10,15,-20]}\n",
    "#print(ultimas_transacoes['Joao'])\n",
    "\n",
    "#Crie um dicionário com o total de todas as transações de cada pessoa \n",
    "\n",
    "for key in ultimas_transacoes:\n",
    "    print(key + str(ultimas_transacoes[key]))\n",
    "    \n",
    "sum([2,4,2])\n",
    "\n",
    "total = {}\n",
    "for key in ultimas_transacoes:\n",
    "    total[key] = sum(ultimas_transacoes[key])\n",
    "\n",
    "    \n",
    "print(total)"
   ]
  },
  {
   "cell_type": "markdown",
   "metadata": {},
   "source": [
    "#### Map"
   ]
  },
  {
   "cell_type": "code",
   "execution_count": null,
   "metadata": {},
   "outputs": [],
   "source": [
    "def dobrar(n): \n",
    "    return 2*n\n",
    "  \n",
    "numbers = [1, 2, 3, 4] \n",
    "numbers2 = [2*i for i in numbers]\n",
    "\n",
    "result = map(dobrar, numbers) \n",
    "print(list(result)) "
   ]
  },
  {
   "cell_type": "code",
   "execution_count": null,
   "metadata": {},
   "outputs": [],
   "source": [
    "numbers = [1, 2, 3, 4] \n",
    "result = map(lambda x: 2*x, numbers) \n",
    "print(list(result)) "
   ]
  },
  {
   "cell_type": "code",
   "execution_count": null,
   "metadata": {},
   "outputs": [],
   "source": [
    "numbers1 = [1, 2, 3,3,4] \n",
    "numbers2 = [4, 5, 6, 8] \n",
    "\n",
    "\n",
    "result = map(lambda a, b: a + b, numbers1, numbers2) \n",
    "print(list(result)) "
   ]
  },
  {
   "cell_type": "code",
   "execution_count": null,
   "metadata": {},
   "outputs": [],
   "source": [
    "l"
   ]
  },
  {
   "cell_type": "code",
   "execution_count": null,
   "metadata": {},
   "outputs": [],
   "source": [
    "r = map(lambda x: sum(ultimas_transacoes[x]), ultimas_transacoes.keys())\n",
    "print(list(r))"
   ]
  },
  {
   "cell_type": "markdown",
   "metadata": {},
   "source": [
    "## Controle de Fluxo"
   ]
  },
  {
   "cell_type": "markdown",
   "metadata": {},
   "source": [
    "### Comparadores\n",
    "Operações que dão como resposta variáveis booleanas."
   ]
  },
  {
   "cell_type": "code",
   "execution_count": null,
   "metadata": {},
   "outputs": [],
   "source": [
    "#Igual a: ==\n",
    "print(5==5)\n",
    "print(True == 1)\n",
    "print(\"PUC\"== \"PUC\")\n",
    "\n",
    "print(5==7)\n",
    "print(True == 0)\n",
    "print(\"Pedro\" == \"Felipe\")"
   ]
  },
  {
   "cell_type": "code",
   "execution_count": null,
   "metadata": {},
   "outputs": [],
   "source": [
    "#Diferente de: !=\n",
    "print(5!=5)\n",
    "print(True != 1)\n",
    "print(\"PUC\" != \"PUC\")\n",
    "\n",
    "print(5!=7)\n",
    "print(True != 0)\n",
    "print(\"Pedro\" != \"Felipe\")"
   ]
  },
  {
   "cell_type": "code",
   "execution_count": null,
   "metadata": {},
   "outputs": [],
   "source": [
    "#Maior(>), Maior ou igual (>=), Menor(<), Menor ou igual (<=)\n",
    "print(5>=5)\n",
    "print(5>5)\n",
    "print(5<=9)\n",
    "\n",
    "print(\"Pedro\" > \"Felipe\")"
   ]
  },
  {
   "cell_type": "markdown",
   "metadata": {},
   "source": [
    "### Operadores Booleanos\n",
    "* AND: Verdadeiro quando os dois casos são verdadeiros\n",
    "* OR: Verdadeiro quando pelo menos um dos casos é verdadeiro\n",
    "* NOT: Negação"
   ]
  },
  {
   "cell_type": "code",
   "execution_count": null,
   "metadata": {},
   "outputs": [],
   "source": [
    "print(8 > 5 and 7>6)   #Verdadeiro x Verdadeiro = Verdadeiro\n",
    "print(10 == 5 and 7>6) #Falso x Verdadeiro = Falso\n",
    "print(8 > 5 and 6<6)   #Verdadeiro x Falso = Falso\n",
    "print(8 < 5 and 6<6)   #Falso x Falso = Falso"
   ]
  },
  {
   "cell_type": "code",
   "execution_count": null,
   "metadata": {},
   "outputs": [],
   "source": [
    "print(8 > 5 or 7>6)   #Verdadeiro x Verdadeiro = Verdadeiro\n",
    "print(10 == 5 or 7>6) #Falso x Verdadeiro = Verdadeiro\n",
    "print(8 > 5 or 6<6)   #Verdadeiro x Falso = Verdadeiro\n",
    "print(8 < 5 or 6<6)   #Falso x Falso = Falso"
   ]
  },
  {
   "cell_type": "code",
   "execution_count": null,
   "metadata": {
    "slideshow": {
     "slide_type": "slide"
    }
   },
   "outputs": [],
   "source": [
    "a = 50 > 40\n",
    "print(a)\n",
    "print(not a)\n",
    "\n",
    "print(not True)\n",
    "print(not False)"
   ]
  },
  {
   "cell_type": "markdown",
   "metadata": {},
   "source": [
    "### Expressões Condicionais\n",
    "Uma expressão condicional é uma estrutura que permite a execução de pedaços de código de acordo com a avaliação de expressões booleanas.\n",
    "\n",
    "Exemplo: \n",
    "* Se chover: Executar levar guarda-chuve\n",
    "* Se não chover: Executar ir à praia"
   ]
  },
  {
   "cell_type": "code",
   "execution_count": null,
   "metadata": {},
   "outputs": [],
   "source": [
    "a = 4\n",
    "if a == 5:\n",
    "    print(\"a é igual a 5\")"
   ]
  },
  {
   "cell_type": "code",
   "execution_count": null,
   "metadata": {},
   "outputs": [],
   "source": [
    "a = 101111\n",
    "if a == 5:\n",
    "    print(\"a é igual a 5\")\n",
    "else:\n",
    "    print(\"a é diferente de 5\")"
   ]
  },
  {
   "cell_type": "code",
   "execution_count": null,
   "metadata": {},
   "outputs": [],
   "source": [
    "a = 4\n",
    "if a <= 5:\n",
    "    print(\"a é menor do que 5\")\n",
    "if a <10:\n",
    "    print(\"a é menor do que 10\")\n",
    "else:\n",
    "    print(\"a é maior que 10\")"
   ]
  },
  {
   "cell_type": "code",
   "execution_count": null,
   "metadata": {},
   "outputs": [],
   "source": [
    "a = 6\n",
    "if a <= 5:\n",
    "    print(\"a é menor do que 5\")\n",
    "elif a <10:\n",
    "    print(\"a é menor do que 10\")\n",
    "else:\n",
    "    print(\"a é maior que 10\")"
   ]
  },
  {
   "cell_type": "markdown",
   "metadata": {},
   "source": [
    "#### Mini Projeto:\n",
    "Escreva um código em que um cliente do banco possa retirar ou depositar dinheiro em sua conta corrente com as seguintes condições: \n",
    "* A operação deve ser realizada durante o horário de funcionamento do banco.\n",
    "* O cliente tem um limite de cheque especial de -100.\n",
    "* Imprima o saldo após a operação.\n",
    "* Caso a operação não funcione, informe o problema ao cliente."
   ]
  },
  {
   "cell_type": "code",
   "execution_count": null,
   "metadata": {},
   "outputs": [],
   "source": [
    "saldo = 100\n",
    "deposito = 223\n",
    "\n",
    "abertura = 8\n",
    "fechamento = 16\n",
    "\n",
    "from datetime import datetime\n",
    "agora = datetime.now()\n",
    "if agora.hour >= abertura and agora.hour < fechamento:\n",
    "    if saldo + deposito < -100:\n",
    "        print(\"sem limite\")\n",
    "    else:\n",
    "        saldo = saldo + deposito\n",
    "        print(saldo)\n",
    "else:\n",
    "    print(\"banco fechado\")\n",
    "        \n",
    "\n"
   ]
  },
  {
   "cell_type": "markdown",
   "metadata": {},
   "source": [
    "### Loop While\n",
    "Executa um pedaço de código enquanto uma condição for verdadeira.\n",
    "\n",
    "while(condição):\n",
    "\n",
    "    executa"
   ]
  },
  {
   "cell_type": "code",
   "execution_count": null,
   "metadata": {},
   "outputs": [],
   "source": [
    "i = 0\n",
    "while i<10:\n",
    "    print(i)\n",
    "    i+=2"
   ]
  },
  {
   "cell_type": "markdown",
   "metadata": {},
   "source": [
    "## Funções\n",
    "Funções são utilizadas quando há a necessidade de repetir um pedaço de código ou uma operação diversas vezes com apenas alguns valores diferentes. O uso de funções torna o código mais limpo, facilita a leitura e a manutenção, diminuindo a chance de erros."
   ]
  },
  {
   "cell_type": "markdown",
   "metadata": {},
   "source": [
    "Sintaxe:\n",
    "\n",
    "def nome_da_funcao (parâmetros):\n",
    "\n",
    "    código\n",
    "\n",
    "    return resposta_da_função"
   ]
  },
  {
   "cell_type": "code",
   "execution_count": null,
   "metadata": {},
   "outputs": [],
   "source": [
    "#Quantos dólares consigo comprar com a taxa de cambio a 4,20 R$/USD com diferentes saldos?\n",
    "#100 \n",
    "print(100/5)\n",
    "#200\n",
    "print(200/5)\n",
    "#500\n",
    "print(500/5)"
   ]
  },
  {
   "cell_type": "code",
   "execution_count": null,
   "metadata": {},
   "outputs": [],
   "source": [
    "#Exemplo: função que converte reais em dólar:\n",
    "def conversorUSD(reais):\n",
    "    dolar = reais/5\n",
    "    return dolar\n",
    "\n",
    "print(conversorUSD(100))\n",
    "print(conversorUSD(200))\n",
    "print(conversorUSD(500))"
   ]
  },
  {
   "cell_type": "code",
   "execution_count": null,
   "metadata": {},
   "outputs": [],
   "source": [
    "#Escreva uma função que calcule quantos meses uma pessoa precisa economizar para comprar um carro dado\n",
    "#seu salário, o preço do carro e uma taxa de economia mensal.  \n",
    "import math\n",
    "def n_meses(preco, salario, tx_economia):\n",
    "    economia = tx_economia*salario\n",
    "    return math.ceil(preco/economia)"
   ]
  },
  {
   "cell_type": "code",
   "execution_count": null,
   "metadata": {},
   "outputs": [],
   "source": [
    "n_meses(1000,10,0.12)"
   ]
  },
  {
   "cell_type": "code",
   "execution_count": null,
   "metadata": {},
   "outputs": [],
   "source": [
    "n_meses(1000,100,0.12)"
   ]
  },
  {
   "cell_type": "code",
   "execution_count": null,
   "metadata": {},
   "outputs": [],
   "source": []
  }
 ],
 "metadata": {
  "kernelspec": {
   "display_name": "Python 3",
   "language": "python",
   "name": "python3"
  },
  "language_info": {
   "codemirror_mode": {
    "name": "ipython",
    "version": 3
   },
   "file_extension": ".py",
   "mimetype": "text/x-python",
   "name": "python",
   "nbconvert_exporter": "python",
   "pygments_lexer": "ipython3",
   "version": "3.8.5"
  }
 },
 "nbformat": 4,
 "nbformat_minor": 2
}
