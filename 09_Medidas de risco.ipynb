{
 "cells": [
  {
   "cell_type": "code",
   "execution_count": 37,
   "id": "d143eb2a",
   "metadata": {},
   "outputs": [
    {
     "name": "stdout",
     "output_type": "stream",
     "text": [
      "The autoreload extension is already loaded. To reload it, use:\n",
      "  %reload_ext autoreload\n"
     ]
    }
   ],
   "source": [
    "import numpy as np\n",
    "import pandas as pd\n",
    "import finance_toolkit as fin\n",
    "\n",
    "%load_ext autoreload\n",
    "%autoreload 2"
   ]
  },
  {
   "cell_type": "code",
   "execution_count": 2,
   "id": "898a55a8",
   "metadata": {},
   "outputs": [
    {
     "name": "stderr",
     "output_type": "stream",
     "text": [
      "C:\\Users\\pedro\\AppData\\Local\\Temp\\ipykernel_12204\\3423862689.py:1: UserWarning: Parsing dates in DD/MM/YYYY format when dayfirst=False (the default) was specified. This may lead to inconsistently parsed dates! Specify a format to ensure consistent parsing.\n",
      "  hfi = pd.read_csv(\"data/edhec-hedgefundindices.csv\",\n"
     ]
    },
    {
     "data": {
      "text/html": [
       "<div>\n",
       "<style scoped>\n",
       "    .dataframe tbody tr th:only-of-type {\n",
       "        vertical-align: middle;\n",
       "    }\n",
       "\n",
       "    .dataframe tbody tr th {\n",
       "        vertical-align: top;\n",
       "    }\n",
       "\n",
       "    .dataframe thead th {\n",
       "        text-align: right;\n",
       "    }\n",
       "</style>\n",
       "<table border=\"1\" class=\"dataframe\">\n",
       "  <thead>\n",
       "    <tr style=\"text-align: right;\">\n",
       "      <th></th>\n",
       "      <th>Convertible Arbitrage</th>\n",
       "      <th>CTA Global</th>\n",
       "      <th>Distressed Securities</th>\n",
       "      <th>Emerging Markets</th>\n",
       "      <th>Equity Market Neutral</th>\n",
       "      <th>Event Driven</th>\n",
       "      <th>Fixed Income Arbitrage</th>\n",
       "      <th>Global Macro</th>\n",
       "      <th>Long/Short Equity</th>\n",
       "      <th>Merger Arbitrage</th>\n",
       "      <th>Relative Value</th>\n",
       "      <th>Short Selling</th>\n",
       "      <th>Funds Of Funds</th>\n",
       "    </tr>\n",
       "    <tr>\n",
       "      <th>date</th>\n",
       "      <th></th>\n",
       "      <th></th>\n",
       "      <th></th>\n",
       "      <th></th>\n",
       "      <th></th>\n",
       "      <th></th>\n",
       "      <th></th>\n",
       "      <th></th>\n",
       "      <th></th>\n",
       "      <th></th>\n",
       "      <th></th>\n",
       "      <th></th>\n",
       "      <th></th>\n",
       "    </tr>\n",
       "  </thead>\n",
       "  <tbody>\n",
       "    <tr>\n",
       "      <th>1997-01</th>\n",
       "      <td>0.0119</td>\n",
       "      <td>0.0393</td>\n",
       "      <td>0.0178</td>\n",
       "      <td>0.0791</td>\n",
       "      <td>0.0189</td>\n",
       "      <td>0.0213</td>\n",
       "      <td>0.0191</td>\n",
       "      <td>0.0573</td>\n",
       "      <td>0.0281</td>\n",
       "      <td>0.0150</td>\n",
       "      <td>0.0180</td>\n",
       "      <td>-0.0166</td>\n",
       "      <td>0.0317</td>\n",
       "    </tr>\n",
       "    <tr>\n",
       "      <th>1997-02</th>\n",
       "      <td>0.0123</td>\n",
       "      <td>0.0298</td>\n",
       "      <td>0.0122</td>\n",
       "      <td>0.0525</td>\n",
       "      <td>0.0101</td>\n",
       "      <td>0.0084</td>\n",
       "      <td>0.0122</td>\n",
       "      <td>0.0175</td>\n",
       "      <td>-0.0006</td>\n",
       "      <td>0.0034</td>\n",
       "      <td>0.0118</td>\n",
       "      <td>0.0426</td>\n",
       "      <td>0.0106</td>\n",
       "    </tr>\n",
       "    <tr>\n",
       "      <th>1997-03</th>\n",
       "      <td>0.0078</td>\n",
       "      <td>-0.0021</td>\n",
       "      <td>-0.0012</td>\n",
       "      <td>-0.0120</td>\n",
       "      <td>0.0016</td>\n",
       "      <td>-0.0023</td>\n",
       "      <td>0.0109</td>\n",
       "      <td>-0.0119</td>\n",
       "      <td>-0.0084</td>\n",
       "      <td>0.0060</td>\n",
       "      <td>0.0010</td>\n",
       "      <td>0.0778</td>\n",
       "      <td>-0.0077</td>\n",
       "    </tr>\n",
       "    <tr>\n",
       "      <th>1997-04</th>\n",
       "      <td>0.0086</td>\n",
       "      <td>-0.0170</td>\n",
       "      <td>0.0030</td>\n",
       "      <td>0.0119</td>\n",
       "      <td>0.0119</td>\n",
       "      <td>-0.0005</td>\n",
       "      <td>0.0130</td>\n",
       "      <td>0.0172</td>\n",
       "      <td>0.0084</td>\n",
       "      <td>-0.0001</td>\n",
       "      <td>0.0122</td>\n",
       "      <td>-0.0129</td>\n",
       "      <td>0.0009</td>\n",
       "    </tr>\n",
       "    <tr>\n",
       "      <th>1997-05</th>\n",
       "      <td>0.0156</td>\n",
       "      <td>-0.0015</td>\n",
       "      <td>0.0233</td>\n",
       "      <td>0.0315</td>\n",
       "      <td>0.0189</td>\n",
       "      <td>0.0346</td>\n",
       "      <td>0.0118</td>\n",
       "      <td>0.0108</td>\n",
       "      <td>0.0394</td>\n",
       "      <td>0.0197</td>\n",
       "      <td>0.0173</td>\n",
       "      <td>-0.0737</td>\n",
       "      <td>0.0275</td>\n",
       "    </tr>\n",
       "  </tbody>\n",
       "</table>\n",
       "</div>"
      ],
      "text/plain": [
       "         Convertible Arbitrage  CTA Global  Distressed Securities  \\\n",
       "date                                                                \n",
       "1997-01                 0.0119      0.0393                 0.0178   \n",
       "1997-02                 0.0123      0.0298                 0.0122   \n",
       "1997-03                 0.0078     -0.0021                -0.0012   \n",
       "1997-04                 0.0086     -0.0170                 0.0030   \n",
       "1997-05                 0.0156     -0.0015                 0.0233   \n",
       "\n",
       "         Emerging Markets  Equity Market Neutral  Event Driven  \\\n",
       "date                                                             \n",
       "1997-01            0.0791                 0.0189        0.0213   \n",
       "1997-02            0.0525                 0.0101        0.0084   \n",
       "1997-03           -0.0120                 0.0016       -0.0023   \n",
       "1997-04            0.0119                 0.0119       -0.0005   \n",
       "1997-05            0.0315                 0.0189        0.0346   \n",
       "\n",
       "         Fixed Income Arbitrage  Global Macro  Long/Short Equity  \\\n",
       "date                                                               \n",
       "1997-01                  0.0191        0.0573             0.0281   \n",
       "1997-02                  0.0122        0.0175            -0.0006   \n",
       "1997-03                  0.0109       -0.0119            -0.0084   \n",
       "1997-04                  0.0130        0.0172             0.0084   \n",
       "1997-05                  0.0118        0.0108             0.0394   \n",
       "\n",
       "         Merger Arbitrage  Relative Value  Short Selling  Funds Of Funds  \n",
       "date                                                                      \n",
       "1997-01            0.0150          0.0180        -0.0166          0.0317  \n",
       "1997-02            0.0034          0.0118         0.0426          0.0106  \n",
       "1997-03            0.0060          0.0010         0.0778         -0.0077  \n",
       "1997-04           -0.0001          0.0122        -0.0129          0.0009  \n",
       "1997-05            0.0197          0.0173        -0.0737          0.0275  "
      ]
     },
     "execution_count": 2,
     "metadata": {},
     "output_type": "execute_result"
    }
   ],
   "source": [
    "hfi = pd.read_csv(\"data/edhec-hedgefundindices.csv\",\n",
    "                      header=0, index_col=0, parse_dates=True)\n",
    "hfi = hfi/100\n",
    "hfi.index = hfi.index.to_period('M')\n",
    "\n",
    "hfi.head()"
   ]
  },
  {
   "cell_type": "markdown",
   "id": "326009c9",
   "metadata": {},
   "source": [
    "## semi deviation"
   ]
  },
  {
   "cell_type": "code",
   "execution_count": 3,
   "id": "c5491a6b",
   "metadata": {},
   "outputs": [],
   "source": [
    "def semi_deviation(ret):\n",
    "    return ret.loc[ret<0].std()"
   ]
  },
  {
   "cell_type": "code",
   "execution_count": 4,
   "id": "bf34dbba",
   "metadata": {},
   "outputs": [
    {
     "data": {
      "text/plain": [
       "0.006612235433326808"
      ]
     },
     "execution_count": 4,
     "metadata": {},
     "output_type": "execute_result"
    }
   ],
   "source": [
    "semi_deviation(hfi['Global Macro'])"
   ]
  },
  {
   "cell_type": "code",
   "execution_count": 5,
   "id": "244073a7",
   "metadata": {
    "scrolled": true
   },
   "outputs": [
    {
     "data": {
      "text/plain": [
       "Convertible Arbitrage     0.019687\n",
       "CTA Global                0.012495\n",
       "Distressed Securities     0.015288\n",
       "Emerging Markets          0.028197\n",
       "Equity Market Neutral     0.009667\n",
       "Event Driven              0.015536\n",
       "Fixed Income Arbitrage    0.017940\n",
       "Global Macro              0.006612\n",
       "Long/Short Equity         0.014133\n",
       "Merger Arbitrage          0.008954\n",
       "Relative Value            0.012355\n",
       "Short Selling             0.027377\n",
       "Funds Of Funds            0.012191\n",
       "dtype: float64"
      ]
     },
     "execution_count": 5,
     "metadata": {},
     "output_type": "execute_result"
    }
   ],
   "source": [
    "hfi.aggregate(semi_deviation)"
   ]
  },
  {
   "cell_type": "code",
   "execution_count": 6,
   "id": "64a14f9f",
   "metadata": {},
   "outputs": [],
   "source": [
    "def semi_deviation(ret):\n",
    "    if type(ret) == pd.Series:\n",
    "        return ret.loc[ret<0].std()\n",
    "    if type(ret) == pd.DataFrame:\n",
    "        return ret.aggregate(semi_deviation)\n",
    "    else:\n",
    "        raise TypeError(\"Expected r to be a Series or DataFrame\")\n"
   ]
  },
  {
   "cell_type": "code",
   "execution_count": 7,
   "id": "17792543",
   "metadata": {},
   "outputs": [
    {
     "data": {
      "text/plain": [
       "0.006612235433326808"
      ]
     },
     "execution_count": 7,
     "metadata": {},
     "output_type": "execute_result"
    }
   ],
   "source": [
    "semi_deviation(hfi['Global Macro'])"
   ]
  },
  {
   "cell_type": "code",
   "execution_count": 8,
   "id": "fff91f3f",
   "metadata": {},
   "outputs": [
    {
     "data": {
      "text/plain": [
       "Convertible Arbitrage     0.019687\n",
       "CTA Global                0.012495\n",
       "Distressed Securities     0.015288\n",
       "Emerging Markets          0.028197\n",
       "Equity Market Neutral     0.009667\n",
       "Event Driven              0.015536\n",
       "Fixed Income Arbitrage    0.017940\n",
       "Global Macro              0.006612\n",
       "Long/Short Equity         0.014133\n",
       "Merger Arbitrage          0.008954\n",
       "Relative Value            0.012355\n",
       "Short Selling             0.027377\n",
       "Funds Of Funds            0.012191\n",
       "dtype: float64"
      ]
     },
     "execution_count": 8,
     "metadata": {},
     "output_type": "execute_result"
    }
   ],
   "source": [
    "semi_deviation(hfi)"
   ]
  },
  {
   "cell_type": "code",
   "execution_count": 9,
   "id": "121f0fb5",
   "metadata": {},
   "outputs": [
    {
     "ename": "TypeError",
     "evalue": "Expected r to be a Series or DataFrame",
     "output_type": "error",
     "traceback": [
      "\u001b[1;31m---------------------------------------------------------------------------\u001b[0m",
      "\u001b[1;31mTypeError\u001b[0m                                 Traceback (most recent call last)",
      "Cell \u001b[1;32mIn[9], line 1\u001b[0m\n\u001b[1;32m----> 1\u001b[0m \u001b[43msemi_deviation\u001b[49m\u001b[43m(\u001b[49m\u001b[38;5;241;43m3\u001b[39;49m\u001b[43m)\u001b[49m\n",
      "Cell \u001b[1;32mIn[6], line 7\u001b[0m, in \u001b[0;36msemi_deviation\u001b[1;34m(ret)\u001b[0m\n\u001b[0;32m      5\u001b[0m     \u001b[38;5;28;01mreturn\u001b[39;00m ret\u001b[38;5;241m.\u001b[39maggregate(semi_deviation)\n\u001b[0;32m      6\u001b[0m \u001b[38;5;28;01melse\u001b[39;00m:\n\u001b[1;32m----> 7\u001b[0m     \u001b[38;5;28;01mraise\u001b[39;00m \u001b[38;5;167;01mTypeError\u001b[39;00m(\u001b[38;5;124m\"\u001b[39m\u001b[38;5;124mExpected r to be a Series or DataFrame\u001b[39m\u001b[38;5;124m\"\u001b[39m)\n",
      "\u001b[1;31mTypeError\u001b[0m: Expected r to be a Series or DataFrame"
     ]
    }
   ],
   "source": [
    "semi_deviation(3)"
   ]
  },
  {
   "cell_type": "code",
   "execution_count": 10,
   "id": "34f81762",
   "metadata": {},
   "outputs": [
    {
     "data": {
      "text/plain": [
       "0.0274"
      ]
     },
     "execution_count": 10,
     "metadata": {},
     "output_type": "execute_result"
    }
   ],
   "source": [
    "-np.percentile(hfi, 5)"
   ]
  },
  {
   "cell_type": "markdown",
   "id": "34c3f94f",
   "metadata": {},
   "source": [
    "## VaR historico"
   ]
  },
  {
   "cell_type": "code",
   "execution_count": 11,
   "id": "1a6390d3",
   "metadata": {},
   "outputs": [
    {
     "data": {
      "text/plain": [
       "0.01499"
      ]
     },
     "execution_count": 11,
     "metadata": {},
     "output_type": "execute_result"
    }
   ],
   "source": [
    "-np.percentile(hfi['Global Macro'], 5)"
   ]
  },
  {
   "cell_type": "code",
   "execution_count": 12,
   "id": "a5a9113f",
   "metadata": {},
   "outputs": [
    {
     "data": {
      "text/plain": [
       "0.0274"
      ]
     },
     "execution_count": 12,
     "metadata": {},
     "output_type": "execute_result"
    }
   ],
   "source": [
    "-np.percentile(hfi, 5)"
   ]
  },
  {
   "cell_type": "code",
   "execution_count": 13,
   "id": "0f7e7661",
   "metadata": {},
   "outputs": [
    {
     "data": {
      "text/plain": [
       "Convertible Arbitrage     0.01576\n",
       "CTA Global                0.03169\n",
       "Distressed Securities     0.01966\n",
       "Emerging Markets          0.04247\n",
       "Equity Market Neutral     0.00814\n",
       "Event Driven              0.02535\n",
       "Fixed Income Arbitrage    0.00787\n",
       "Global Macro              0.01499\n",
       "Long/Short Equity         0.02598\n",
       "Merger Arbitrage          0.01047\n",
       "Relative Value            0.01174\n",
       "Short Selling             0.06783\n",
       "Funds Of Funds            0.02047\n",
       "dtype: float64"
      ]
     },
     "execution_count": 13,
     "metadata": {},
     "output_type": "execute_result"
    }
   ],
   "source": [
    "hfi.aggregate(lambda x: -np.percentile(x, 5))"
   ]
  },
  {
   "cell_type": "code",
   "execution_count": 14,
   "id": "7c189df4",
   "metadata": {},
   "outputs": [],
   "source": [
    "def var_historic(r, level=5):\n",
    "    if isinstance(r, pd.Series):\n",
    "        return -np.percentile(r, level)\n",
    "    elif isinstance(r, pd.DataFrame):\n",
    "        return r.aggregate(var_historic, level=level)\n",
    "    else:\n",
    "        raise TypeError(\"Expected r to be a Series or DataFrame\")"
   ]
  },
  {
   "cell_type": "code",
   "execution_count": 15,
   "id": "fe6d74c3",
   "metadata": {},
   "outputs": [
    {
     "data": {
      "text/plain": [
       "Convertible Arbitrage     0.01576\n",
       "CTA Global                0.03169\n",
       "Distressed Securities     0.01966\n",
       "Emerging Markets          0.04247\n",
       "Equity Market Neutral     0.00814\n",
       "Event Driven              0.02535\n",
       "Fixed Income Arbitrage    0.00787\n",
       "Global Macro              0.01499\n",
       "Long/Short Equity         0.02598\n",
       "Merger Arbitrage          0.01047\n",
       "Relative Value            0.01174\n",
       "Short Selling             0.06783\n",
       "Funds Of Funds            0.02047\n",
       "dtype: float64"
      ]
     },
     "execution_count": 15,
     "metadata": {},
     "output_type": "execute_result"
    }
   ],
   "source": [
    "var_historic(hfi)"
   ]
  },
  {
   "cell_type": "markdown",
   "id": "56fea7b1",
   "metadata": {},
   "source": [
    "## CVar historico"
   ]
  },
  {
   "cell_type": "code",
   "execution_count": 16,
   "id": "6dd53a9c",
   "metadata": {},
   "outputs": [
    {
     "data": {
      "text/plain": [
       "0.02062857142857143"
      ]
     },
     "execution_count": 16,
     "metadata": {},
     "output_type": "execute_result"
    }
   ],
   "source": [
    "is_beyond = hfi['Global Macro'] <= -var_historic(hfi['Global Macro'])\n",
    "-hfi['Global Macro'][is_beyond].mean()"
   ]
  },
  {
   "cell_type": "code",
   "execution_count": 17,
   "id": "9fd8187d",
   "metadata": {},
   "outputs": [],
   "source": [
    "def cvar_historic(r, level=5):\n",
    "    \"\"\"\n",
    "    Computes the Conditional VaR of Series or DataFrame\n",
    "    \"\"\"\n",
    "    if isinstance(r, pd.Series):\n",
    "        is_beyond = r <= -var_historic(r, level=level)\n",
    "        return -r[is_beyond].mean()\n",
    "    elif isinstance(r, pd.DataFrame):\n",
    "        return r.aggregate(cvar_historic, level=level)\n",
    "    else:\n",
    "        raise TypeError(\"Expected r to be a Series or DataFrame\")\n"
   ]
  },
  {
   "cell_type": "code",
   "execution_count": 18,
   "id": "6848c612",
   "metadata": {},
   "outputs": [
    {
     "data": {
      "text/plain": [
       "Convertible Arbitrage     0.036550\n",
       "CTA Global                0.041264\n",
       "Distressed Securities     0.036429\n",
       "Emerging Markets          0.072364\n",
       "Equity Market Neutral     0.016879\n",
       "Event Driven              0.038336\n",
       "Fixed Income Arbitrage    0.028257\n",
       "Global Macro              0.020629\n",
       "Long/Short Equity         0.041943\n",
       "Merger Arbitrage          0.019143\n",
       "Relative Value            0.024650\n",
       "Short Selling             0.096821\n",
       "Funds Of Funds            0.033207\n",
       "dtype: float64"
      ]
     },
     "execution_count": 18,
     "metadata": {},
     "output_type": "execute_result"
    }
   ],
   "source": [
    "cvar_historic(hfi)"
   ]
  },
  {
   "cell_type": "markdown",
   "id": "b92b0898",
   "metadata": {},
   "source": [
    "## VaR gausseano"
   ]
  },
  {
   "cell_type": "code",
   "execution_count": 19,
   "id": "96a4a1bd",
   "metadata": {},
   "outputs": [],
   "source": [
    "from scipy.stats import norm\n",
    "def var_gaussian(r, level=5):\n",
    "    # compute the Z score assuming it was Gaussian\n",
    "    z = norm.ppf(level/100)\n",
    "    return -(r.mean() + z*r.std(ddof=0))"
   ]
  },
  {
   "cell_type": "code",
   "execution_count": 20,
   "id": "01b90d35",
   "metadata": {},
   "outputs": [
    {
     "data": {
      "text/plain": [
       "Convertible Arbitrage     0.021691\n",
       "CTA Global                0.034235\n",
       "Distressed Securities     0.021032\n",
       "Emerging Markets          0.047164\n",
       "Equity Market Neutral     0.008850\n",
       "Event Driven              0.021144\n",
       "Fixed Income Arbitrage    0.014579\n",
       "Global Macro              0.018766\n",
       "Long/Short Equity         0.026397\n",
       "Merger Arbitrage          0.010435\n",
       "Relative Value            0.013061\n",
       "Short Selling             0.080086\n",
       "Funds Of Funds            0.021292\n",
       "dtype: float64"
      ]
     },
     "execution_count": 20,
     "metadata": {},
     "output_type": "execute_result"
    }
   ],
   "source": [
    "hfi.aggregate(var_gaussian)"
   ]
  },
  {
   "cell_type": "markdown",
   "id": "866ad332",
   "metadata": {},
   "source": [
    "## Normalidade"
   ]
  },
  {
   "cell_type": "code",
   "execution_count": 21,
   "id": "b81350ad",
   "metadata": {},
   "outputs": [],
   "source": [
    "import scipy.stats\n",
    "def is_normal(r, level=0.01):\n",
    "    statistic, p_value = scipy.stats.jarque_bera(r)\n",
    "    return p_value > level"
   ]
  },
  {
   "cell_type": "code",
   "execution_count": 22,
   "id": "6c4eb08a",
   "metadata": {},
   "outputs": [
    {
     "data": {
      "text/plain": [
       "Convertible Arbitrage     False\n",
       "CTA Global                 True\n",
       "Distressed Securities     False\n",
       "Emerging Markets          False\n",
       "Equity Market Neutral     False\n",
       "Event Driven              False\n",
       "Fixed Income Arbitrage    False\n",
       "Global Macro              False\n",
       "Long/Short Equity         False\n",
       "Merger Arbitrage          False\n",
       "Relative Value            False\n",
       "Short Selling             False\n",
       "Funds Of Funds            False\n",
       "dtype: bool"
      ]
     },
     "execution_count": 22,
     "metadata": {},
     "output_type": "execute_result"
    }
   ],
   "source": [
    "hfi.aggregate(is_normal)"
   ]
  },
  {
   "cell_type": "markdown",
   "id": "519319bb",
   "metadata": {},
   "source": [
    "$$\n",
    "S = \\frac{E[(X-\\mu)]^3}{\\sigma^3}\n",
    "$$\n",
    "\n",
    "$$\n",
    "K = \\frac{E[(X-\\mu)]^4}{\\sigma^4}\n",
    "$$"
   ]
  },
  {
   "cell_type": "code",
   "execution_count": 23,
   "id": "cacbb3db",
   "metadata": {},
   "outputs": [],
   "source": [
    "def skewness(r):\n",
    "    demeaned_r = r - r.mean()\n",
    "    sigma_r = r.std()\n",
    "    exp = (demeaned_r**3).mean()\n",
    "    return exp/sigma_r**3\n",
    "\n",
    "\n",
    "def kurtosis(r):\n",
    "    demeaned_r = r - r.mean()\n",
    "    sigma_r = r.std()\n",
    "    exp = (demeaned_r**4).mean()\n",
    "    return exp/sigma_r**4"
   ]
  },
  {
   "cell_type": "code",
   "execution_count": 24,
   "id": "e5563eb3",
   "metadata": {},
   "outputs": [
    {
     "data": {
      "text/plain": [
       "Convertible Arbitrage    -2.624552\n",
       "CTA Global                0.172709\n",
       "Distressed Securities    -1.293430\n",
       "Emerging Markets         -1.160418\n",
       "Equity Market Neutral    -2.112330\n",
       "Event Driven             -1.401124\n",
       "Fixed Income Arbitrage   -3.917868\n",
       "Global Macro              0.977321\n",
       "Long/Short Equity        -0.388003\n",
       "Merger Arbitrage         -1.312562\n",
       "Relative Value           -1.805125\n",
       "Short Selling             0.763599\n",
       "Funds Of Funds           -0.359722\n",
       "dtype: float64"
      ]
     },
     "execution_count": 24,
     "metadata": {},
     "output_type": "execute_result"
    }
   ],
   "source": [
    "hfi.aggregate(skewness)"
   ]
  },
  {
   "cell_type": "code",
   "execution_count": 25,
   "id": "3fa76b6b",
   "metadata": {},
   "outputs": [
    {
     "data": {
      "text/plain": [
       "Convertible Arbitrage     23.104130\n",
       "CTA Global                 2.930547\n",
       "Distressed Securities      7.830098\n",
       "Emerging Markets           9.180574\n",
       "Equity Market Neutral     17.087865\n",
       "Event Driven               7.974835\n",
       "Fixed Income Arbitrage    29.615694\n",
       "Global Macro               5.698099\n",
       "Long/Short Equity          4.489556\n",
       "Merger Arbitrage           8.672620\n",
       "Relative Value            12.029207\n",
       "Short Selling              6.071337\n",
       "Funds Of Funds             7.016490\n",
       "dtype: float64"
      ]
     },
     "execution_count": 25,
     "metadata": {},
     "output_type": "execute_result"
    }
   ],
   "source": [
    "hfi.aggregate(kurtosis)"
   ]
  },
  {
   "cell_type": "markdown",
   "id": "1106d1af",
   "metadata": {},
   "source": [
    "Cornish-Fisher modifier\n",
    "$$ z_{cornishfisher} = z +\\frac{1}{6}(z^2-1)S + \\frac{1}{24}(z^3-3z)(K-3)-\\frac{1}{36}(2z^3-5z)S^2 $$"
   ]
  },
  {
   "cell_type": "code",
   "execution_count": 26,
   "id": "966b6a83",
   "metadata": {},
   "outputs": [],
   "source": [
    "from scipy.stats import norm\n",
    "def var_gaussian(r, level=5, modified=False):\n",
    "    # compute the Z score assuming it was Gaussian\n",
    "    z = norm.ppf(level/100)\n",
    "    if modified:\n",
    "        # modify the Z score based on observed skewness and kurtosis\n",
    "        s = skewness(r)\n",
    "        k = kurtosis(r)\n",
    "        z = (z +\n",
    "                (z**2 - 1)*s/6 +\n",
    "                (z**3 -3*z)*(k-3)/24 -\n",
    "                (2*z**3 - 5*z)*(s**2)/36\n",
    "            )\n",
    "        \n",
    "    return -(r.mean() + z*r.std(ddof=0))"
   ]
  },
  {
   "cell_type": "code",
   "execution_count": 27,
   "id": "16cf558e",
   "metadata": {},
   "outputs": [
    {
     "data": {
      "text/plain": [
       "Convertible Arbitrage     0.025179\n",
       "CTA Global                0.033111\n",
       "Distressed Securities     0.025093\n",
       "Emerging Markets          0.053005\n",
       "Equity Market Neutral     0.010735\n",
       "Event Driven              0.025506\n",
       "Fixed Income Arbitrage    0.017899\n",
       "Global Macro              0.013621\n",
       "Long/Short Equity         0.027937\n",
       "Merger Arbitrage          0.012608\n",
       "Relative Value            0.016153\n",
       "Short Selling             0.066267\n",
       "Funds Of Funds            0.021584\n",
       "dtype: float64"
      ]
     },
     "execution_count": 27,
     "metadata": {},
     "output_type": "execute_result"
    }
   ],
   "source": [
    "hfi.aggregate(var_gaussian, modified=True)"
   ]
  },
  {
   "cell_type": "code",
   "execution_count": 28,
   "id": "49ddc298",
   "metadata": {},
   "outputs": [],
   "source": [
    "var_table = [var_gaussian(hfi), \n",
    "             var_gaussian(hfi, modified=True), \n",
    "             var_historic(hfi)]\n",
    "comparison = pd.concat(var_table, axis=1)\n",
    "comparison.columns=['Gaussian', 'Cornish-Fisher', 'Historic']\n"
   ]
  },
  {
   "cell_type": "code",
   "execution_count": 29,
   "id": "30124995",
   "metadata": {},
   "outputs": [
    {
     "data": {
      "text/plain": [
       "<Axes: >"
      ]
     },
     "execution_count": 29,
     "metadata": {},
     "output_type": "execute_result"
    },
    {
     "data": {
      "image/png": "[encoded data removed]",
      "text/plain": [
       "<Figure size 640x480 with 1 Axes>"
      ]
     },
     "metadata": {},
     "output_type": "display_data"
    }
   ],
   "source": [
    "comparison.plot.bar()"
   ]
  },
  {
   "cell_type": "markdown",
   "id": "2d6d8d35",
   "metadata": {},
   "source": [
    "## Resumo stats"
   ]
  },
  {
   "cell_type": "code",
   "execution_count": 32,
   "id": "34b69e68",
   "metadata": {},
   "outputs": [],
   "source": [
    "def summary_stats(r, riskfree_rate=0.03):\n",
    "    \"\"\"\n",
    "    Return a DataFrame that contains aggregated summary stats for the returns in the columns of r\n",
    "    \"\"\"\n",
    "    ann_r = r.aggregate(fin.annualize_return, periods_per_year=12)\n",
    "    ann_vol = r.aggregate(fin.annualize_vol, periods_per_year=12)\n",
    "    ann_sr = r.aggregate(fin.sharpe_ratio, riskfree_rate=riskfree_rate, periods_per_year=12)\n",
    "    dd = r.aggregate(lambda r: fin.drawdown(r))\n",
    "    skew = r.aggregate(skewness)\n",
    "    kurt = r.aggregate(kurtosis)\n",
    "    cf_var5 = r.aggregate(var_gaussian, modified=True)\n",
    "    hist_cvar5 = r.aggregate(cvar_historic)\n",
    "    return pd.DataFrame({\n",
    "        \"Annualized Return\": ann_r,\n",
    "        \"Annualized Vol\": ann_vol,\n",
    "        \"Skewness\": skew,\n",
    "        \"Kurtosis\": kurt,\n",
    "        \"Cornish-Fisher VaR (5%)\": cf_var5,\n",
    "        \"Historic CVaR (5%)\": hist_cvar5,\n",
    "        \"Sharpe Ratio\": ann_sr,\n",
    "        \"Max Drawdown\": dd\n",
    "    })"
   ]
  },
  {
   "cell_type": "code",
   "execution_count": 41,
   "id": "95bcd734",
   "metadata": {},
   "outputs": [
    {
     "data": {
      "text/html": [
       "<div>\n",
       "<style scoped>\n",
       "    .dataframe tbody tr th:only-of-type {\n",
       "        vertical-align: middle;\n",
       "    }\n",
       "\n",
       "    .dataframe tbody tr th {\n",
       "        vertical-align: top;\n",
       "    }\n",
       "\n",
       "    .dataframe thead th {\n",
       "        text-align: right;\n",
       "    }\n",
       "</style>\n",
       "<table border=\"1\" class=\"dataframe\">\n",
       "  <thead>\n",
       "    <tr style=\"text-align: right;\">\n",
       "      <th></th>\n",
       "      <th>Annualized Return</th>\n",
       "      <th>Annualized Vol</th>\n",
       "      <th>Skewness</th>\n",
       "      <th>Kurtosis</th>\n",
       "      <th>Cornish-Fisher VaR (5%)</th>\n",
       "      <th>Historic CVaR (5%)</th>\n",
       "      <th>Sharpe Ratio</th>\n",
       "      <th>Max Drawdown</th>\n",
       "    </tr>\n",
       "  </thead>\n",
       "  <tbody>\n",
       "    <tr>\n",
       "      <th>Merger Arbitrage</th>\n",
       "      <td>0.065610</td>\n",
       "      <td>0.033320</td>\n",
       "      <td>-1.312562</td>\n",
       "      <td>8.672620</td>\n",
       "      <td>0.012608</td>\n",
       "      <td>0.019143</td>\n",
       "      <td>1.040139</td>\n",
       "      <td>-0.056342</td>\n",
       "    </tr>\n",
       "    <tr>\n",
       "      <th>Relative Value</th>\n",
       "      <td>0.070915</td>\n",
       "      <td>0.039781</td>\n",
       "      <td>-1.805125</td>\n",
       "      <td>12.029207</td>\n",
       "      <td>0.016153</td>\n",
       "      <td>0.024650</td>\n",
       "      <td>1.000992</td>\n",
       "      <td>-0.159407</td>\n",
       "    </tr>\n",
       "    <tr>\n",
       "      <th>Distressed Securities</th>\n",
       "      <td>0.084723</td>\n",
       "      <td>0.059034</td>\n",
       "      <td>-1.293430</td>\n",
       "      <td>7.830098</td>\n",
       "      <td>0.025093</td>\n",
       "      <td>0.036429</td>\n",
       "      <td>0.902173</td>\n",
       "      <td>-0.229233</td>\n",
       "    </tr>\n",
       "    <tr>\n",
       "      <th>Equity Market Neutral</th>\n",
       "      <td>0.054915</td>\n",
       "      <td>0.028164</td>\n",
       "      <td>-2.112330</td>\n",
       "      <td>17.087865</td>\n",
       "      <td>0.010735</td>\n",
       "      <td>0.016879</td>\n",
       "      <td>0.860965</td>\n",
       "      <td>-0.110823</td>\n",
       "    </tr>\n",
       "    <tr>\n",
       "      <th>Event Driven</th>\n",
       "      <td>0.077034</td>\n",
       "      <td>0.058001</td>\n",
       "      <td>-1.401124</td>\n",
       "      <td>7.974835</td>\n",
       "      <td>0.025506</td>\n",
       "      <td>0.038336</td>\n",
       "      <td>0.789200</td>\n",
       "      <td>-0.200817</td>\n",
       "    </tr>\n",
       "    <tr>\n",
       "      <th>Global Macro</th>\n",
       "      <td>0.065444</td>\n",
       "      <td>0.050999</td>\n",
       "      <td>0.977321</td>\n",
       "      <td>5.698099</td>\n",
       "      <td>0.013621</td>\n",
       "      <td>0.020629</td>\n",
       "      <td>0.676388</td>\n",
       "      <td>-0.079229</td>\n",
       "    </tr>\n",
       "    <tr>\n",
       "      <th>Long/Short Equity</th>\n",
       "      <td>0.076129</td>\n",
       "      <td>0.069056</td>\n",
       "      <td>-0.388003</td>\n",
       "      <td>4.489556</td>\n",
       "      <td>0.027937</td>\n",
       "      <td>0.041943</td>\n",
       "      <td>0.650079</td>\n",
       "      <td>-0.218197</td>\n",
       "    </tr>\n",
       "    <tr>\n",
       "      <th>Convertible Arbitrage</th>\n",
       "      <td>0.066352</td>\n",
       "      <td>0.057391</td>\n",
       "      <td>-2.624552</td>\n",
       "      <td>23.104130</td>\n",
       "      <td>0.025179</td>\n",
       "      <td>0.036550</td>\n",
       "      <td>0.616425</td>\n",
       "      <td>-0.292688</td>\n",
       "    </tr>\n",
       "    <tr>\n",
       "      <th>Fixed Income Arbitrage</th>\n",
       "      <td>0.052799</td>\n",
       "      <td>0.039972</td>\n",
       "      <td>-3.917868</td>\n",
       "      <td>29.615694</td>\n",
       "      <td>0.017899</td>\n",
       "      <td>0.028257</td>\n",
       "      <td>0.555074</td>\n",
       "      <td>-0.178793</td>\n",
       "    </tr>\n",
       "    <tr>\n",
       "      <th>Funds Of Funds</th>\n",
       "      <td>0.050848</td>\n",
       "      <td>0.053921</td>\n",
       "      <td>-0.359722</td>\n",
       "      <td>7.016490</td>\n",
       "      <td>0.021584</td>\n",
       "      <td>0.033207</td>\n",
       "      <td>0.376234</td>\n",
       "      <td>-0.205914</td>\n",
       "    </tr>\n",
       "    <tr>\n",
       "      <th>Emerging Markets</th>\n",
       "      <td>0.070756</td>\n",
       "      <td>0.112713</td>\n",
       "      <td>-1.160418</td>\n",
       "      <td>9.180574</td>\n",
       "      <td>0.053005</td>\n",
       "      <td>0.072364</td>\n",
       "      <td>0.351786</td>\n",
       "      <td>-0.359790</td>\n",
       "    </tr>\n",
       "    <tr>\n",
       "      <th>CTA Global</th>\n",
       "      <td>0.046618</td>\n",
       "      <td>0.080833</td>\n",
       "      <td>0.172709</td>\n",
       "      <td>2.930547</td>\n",
       "      <td>0.033111</td>\n",
       "      <td>0.041264</td>\n",
       "      <td>0.199989</td>\n",
       "      <td>-0.125579</td>\n",
       "    </tr>\n",
       "    <tr>\n",
       "      <th>Short Selling</th>\n",
       "      <td>-0.033285</td>\n",
       "      <td>0.165396</td>\n",
       "      <td>0.763599</td>\n",
       "      <td>6.071337</td>\n",
       "      <td>0.066267</td>\n",
       "      <td>0.096821</td>\n",
       "      <td>-0.372560</td>\n",
       "      <td>-0.768707</td>\n",
       "    </tr>\n",
       "  </tbody>\n",
       "</table>\n",
       "</div>"
      ],
      "text/plain": [
       "                        Annualized Return  Annualized Vol  Skewness  \\\n",
       "Merger Arbitrage                 0.065610        0.033320 -1.312562   \n",
       "Relative Value                   0.070915        0.039781 -1.805125   \n",
       "Distressed Securities            0.084723        0.059034 -1.293430   \n",
       "Equity Market Neutral            0.054915        0.028164 -2.112330   \n",
       "Event Driven                     0.077034        0.058001 -1.401124   \n",
       "Global Macro                     0.065444        0.050999  0.977321   \n",
       "Long/Short Equity                0.076129        0.069056 -0.388003   \n",
       "Convertible Arbitrage            0.066352        0.057391 -2.624552   \n",
       "Fixed Income Arbitrage           0.052799        0.039972 -3.917868   \n",
       "Funds Of Funds                   0.050848        0.053921 -0.359722   \n",
       "Emerging Markets                 0.070756        0.112713 -1.160418   \n",
       "CTA Global                       0.046618        0.080833  0.172709   \n",
       "Short Selling                   -0.033285        0.165396  0.763599   \n",
       "\n",
       "                         Kurtosis  Cornish-Fisher VaR (5%)  \\\n",
       "Merger Arbitrage         8.672620                 0.012608   \n",
       "Relative Value          12.029207                 0.016153   \n",
       "Distressed Securities    7.830098                 0.025093   \n",
       "Equity Market Neutral   17.087865                 0.010735   \n",
       "Event Driven             7.974835                 0.025506   \n",
       "Global Macro             5.698099                 0.013621   \n",
       "Long/Short Equity        4.489556                 0.027937   \n",
       "Convertible Arbitrage   23.104130                 0.025179   \n",
       "Fixed Income Arbitrage  29.615694                 0.017899   \n",
       "Funds Of Funds           7.016490                 0.021584   \n",
       "Emerging Markets         9.180574                 0.053005   \n",
       "CTA Global               2.930547                 0.033111   \n",
       "Short Selling            6.071337                 0.066267   \n",
       "\n",
       "                        Historic CVaR (5%)  Sharpe Ratio  Max Drawdown  \n",
       "Merger Arbitrage                  0.019143      1.040139     -0.056342  \n",
       "Relative Value                    0.024650      1.000992     -0.159407  \n",
       "Distressed Securities             0.036429      0.902173     -0.229233  \n",
       "Equity Market Neutral             0.016879      0.860965     -0.110823  \n",
       "Event Driven                      0.038336      0.789200     -0.200817  \n",
       "Global Macro                      0.020629      0.676388     -0.079229  \n",
       "Long/Short Equity                 0.041943      0.650079     -0.218197  \n",
       "Convertible Arbitrage             0.036550      0.616425     -0.292688  \n",
       "Fixed Income Arbitrage            0.028257      0.555074     -0.178793  \n",
       "Funds Of Funds                    0.033207      0.376234     -0.205914  \n",
       "Emerging Markets                  0.072364      0.351786     -0.359790  \n",
       "CTA Global                        0.041264      0.199989     -0.125579  \n",
       "Short Selling                     0.096821     -0.372560     -0.768707  "
      ]
     },
     "execution_count": 41,
     "metadata": {},
     "output_type": "execute_result"
    }
   ],
   "source": [
    "summary_stats(hfi).sort_values(by='Sharpe Ratio', ascending=False)"
   ]
  },
  {
   "cell_type": "code",
   "execution_count": null,
   "id": "4320a0dc",
   "metadata": {},
   "outputs": [],
   "source": []
  }
 ],
 "metadata": {
  "kernelspec": {
   "display_name": "Python 3 (ipykernel)",
   "language": "python",
   "name": "python3"
  },
  "language_info": {
   "codemirror_mode": {
    "name": "ipython",
    "version": 3
   },
   "file_extension": ".py",
   "mimetype": "text/x-python",
   "name": "python",
   "nbconvert_exporter": "python",
   "pygments_lexer": "ipython3",
   "version": "3.10.9"
  }
 },
 "nbformat": 4,
 "nbformat_minor": 5
}
